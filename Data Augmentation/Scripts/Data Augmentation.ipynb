{
 "cells": [
  {
   "cell_type": "code",
   "execution_count": 1,
   "metadata": {},
   "outputs": [],
   "source": [
    "from keras.preprocessing.image import ImageDataGenerator, img_to_array, load_img"
   ]
  },
  {
   "cell_type": "code",
   "execution_count": 9,
   "metadata": {},
   "outputs": [],
   "source": [
    "# Augmentation\n",
    "datagenerator = ImageDataGenerator(rotation_range=40, width_shift_range=0.2, height_shift_range=0.2, shear_range=0.2, zoom_range=0.2,horizontal_flip=True, fill_mode='nearest')\n",
    "img = load_img('../Images/IMG-20190701-WA0000.jpg')\n",
    "# Create a numpy array with shape (3, 150, 150)\n",
    "x = img_to_array(img)\n",
    "\n",
    "#Convert to Numpy array with shape (1, 3, 150, 150)\n",
    "x = x.reshape((1,) + x.shape)\n",
    "\n",
    "i = 0\n",
    "for batch in datagenerator.flow(x, save_to_dir=\"../Images/AugmentedHpImages\", save_prefix=\"hplaptop\", save_format='jpeg'):\n",
    "    i +=1\n",
    "    if i > 35:\n",
    "        break\n",
    "    \n"
   ]
  },
  {
   "cell_type": "code",
   "execution_count": 10,
   "metadata": {},
   "outputs": [],
   "source": [
    "# Repeated Augmentation\n",
    "\n",
    "datagenerator = ImageDataGenerator(rotation_range=40, width_shift_range=0.2, height_shift_range=0.2, shear_range=0.2, zoom_range=0.2,horizontal_flip=True, fill_mode='nearest')\n",
    "img = load_img('../Images/IMG-20190225-WA0002.jpg')\n",
    "# Create a numpy array with shape (3, 150, 150)\n",
    "x = img_to_array(img)\n",
    "\n",
    "#Convert to Numpy array with shape (1, 3, 150, 150)\n",
    "x = x.reshape((1,) + x.shape)\n",
    "\n",
    "i = 0\n",
    "for batch in datagenerator.flow(x, save_to_dir=\"../Images/Casper\", save_prefix=\"hplaptop\", save_format='jpeg'):\n",
    "    i +=1\n",
    "    if i > 35:\n",
    "        break\n",
    "    \n"
   ]
  },
  {
   "cell_type": "code",
   "execution_count": null,
   "metadata": {},
   "outputs": [],
   "source": []
  }
 ],
 "metadata": {
  "kernelspec": {
   "display_name": "Python 3",
   "language": "python",
   "name": "python3"
  },
  "language_info": {
   "codemirror_mode": {
    "name": "ipython",
    "version": 3
   },
   "file_extension": ".py",
   "mimetype": "text/x-python",
   "name": "python",
   "nbconvert_exporter": "python",
   "pygments_lexer": "ipython3",
   "version": "3.7.4"
  }
 },
 "nbformat": 4,
 "nbformat_minor": 2
}
