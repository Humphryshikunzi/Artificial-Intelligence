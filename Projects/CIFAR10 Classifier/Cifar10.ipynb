{
 "cells": [
  {
   "cell_type": "code",
   "execution_count": 1,
   "metadata": {},
   "outputs": [],
   "source": [
    "from __future__ import print_function\n",
    "import keras\n",
    "from keras.datasets import cifar10 # Also cifar100\n",
    "from keras.preprocessing.image import ImageDataGenerator\n",
    "from keras.models import Sequential\n",
    "from keras.layers import Dense, Dropout, Activation, Flatten\n",
    "from keras.layers import Conv2D, MaxPooling2D\n",
    "from keras.models import load_model\n",
    "import os"
   ]
  },
  {
   "cell_type": "code",
   "execution_count": 2,
   "metadata": {},
   "outputs": [],
   "source": [
    "batch_size = 32\n",
    "num_classes = 10\n",
    "epochs = 20\n",
    "(x_train, y_train), (x_test, y_test) = cifar10.load_data()"
   ]
  },
  {
   "cell_type": "code",
   "execution_count": 3,
   "metadata": {},
   "outputs": [
    {
     "name": "stdout",
     "output_type": "stream",
     "text": [
      "X_shape (50000, 32, 32, 3)\n",
      "50000 train_samples\n",
      "10000 test_samples\n"
     ]
    }
   ],
   "source": [
    "print('X_shape', x_train.shape)\n",
    "print(x_train.shape[0], 'train_samples')\n",
    "print(x_test.shape[0], 'test_samples')\n",
    "\n",
    "x_train  = x_train.astype('float32')\n",
    "x_test   = x_test.astype('float32')\n",
    "x_train /= 255\n",
    "x_test  /= 255\n",
    "\n",
    "y_train = keras.utils.to_categorical(y_train, num_classes)\n",
    "y_test = keras.utils.to_categorical(y_test, num_classes)"
   ]
  },
  {
   "cell_type": "code",
   "execution_count": 4,
   "metadata": {},
   "outputs": [],
   "source": [
    "model = Sequential()\n",
    "\n",
    "model.add(Conv2D(32, (3, 3), padding = 'same', \n",
    "                input_shape = x_train.shape[1:]))\n",
    "model.add(Activation('relu'))\n",
    "model.add(Conv2D(32, (3, 3)))\n",
    "model.add(Activation('relu'))\n",
    "model.add(MaxPooling2D(pool_size = (2, 2)))\n",
    "model.add(Dropout(0.25))\n",
    "\n",
    "\n",
    "model.add(Conv2D(64, (3, 3), padding = 'same'))    \n",
    "model.add(Activation('relu'))\n",
    "model.add(Conv2D(64, (3, 3)))\n",
    "model.add(Activation('relu'))\n",
    "model.add(MaxPooling2D(pool_size = (2, 2)))\n",
    "model.add(Dropout(0.25))\n",
    "\n",
    "model.add(Flatten())    \n",
    "model.add(Dense(512))\n",
    "model.add(Activation('relu'))\n",
    "model.add(Dropout(0.5))\n",
    "model.add(Dense(num_classes))\n",
    "model.add(Activation('softmax'))\n",
    "\n",
    "\n"
   ]
  },
  {
   "cell_type": "code",
   "execution_count": null,
   "metadata": {},
   "outputs": [],
   "source": []
  },
  {
   "cell_type": "code",
   "execution_count": 6,
   "metadata": {},
   "outputs": [
    {
     "name": "stdout",
     "output_type": "stream",
     "text": [
      "Model: \"sequential_1\"\n",
      "_________________________________________________________________\n",
      "Layer (type)                 Output Shape              Param #   \n",
      "=================================================================\n",
      "conv2d_1 (Conv2D)            (None, 32, 32, 32)        896       \n",
      "_________________________________________________________________\n",
      "activation_1 (Activation)    (None, 32, 32, 32)        0         \n",
      "_________________________________________________________________\n",
      "conv2d_2 (Conv2D)            (None, 30, 30, 32)        9248      \n",
      "_________________________________________________________________\n",
      "activation_2 (Activation)    (None, 30, 30, 32)        0         \n",
      "_________________________________________________________________\n",
      "max_pooling2d_1 (MaxPooling2 (None, 15, 15, 32)        0         \n",
      "_________________________________________________________________\n",
      "dropout_1 (Dropout)          (None, 15, 15, 32)        0         \n",
      "_________________________________________________________________\n",
      "conv2d_3 (Conv2D)            (None, 15, 15, 64)        18496     \n",
      "_________________________________________________________________\n",
      "activation_3 (Activation)    (None, 15, 15, 64)        0         \n",
      "_________________________________________________________________\n",
      "conv2d_4 (Conv2D)            (None, 13, 13, 64)        36928     \n",
      "_________________________________________________________________\n",
      "activation_4 (Activation)    (None, 13, 13, 64)        0         \n",
      "_________________________________________________________________\n",
      "max_pooling2d_2 (MaxPooling2 (None, 6, 6, 64)          0         \n",
      "_________________________________________________________________\n",
      "dropout_2 (Dropout)          (None, 6, 6, 64)          0         \n",
      "_________________________________________________________________\n",
      "flatten_1 (Flatten)          (None, 2304)              0         \n",
      "_________________________________________________________________\n",
      "dense_1 (Dense)              (None, 512)               1180160   \n",
      "_________________________________________________________________\n",
      "activation_5 (Activation)    (None, 512)               0         \n",
      "_________________________________________________________________\n",
      "dropout_3 (Dropout)          (None, 512)               0         \n",
      "_________________________________________________________________\n",
      "dense_2 (Dense)              (None, 10)                5130      \n",
      "_________________________________________________________________\n",
      "activation_6 (Activation)    (None, 10)                0         \n",
      "=================================================================\n",
      "Total params: 1,250,858\n",
      "Trainable params: 1,250,858\n",
      "Non-trainable params: 0\n",
      "_________________________________________________________________\n",
      "None\n"
     ]
    }
   ],
   "source": [
    "from keras.optimizers import RMSprop, SGD\n",
    "from keras.callbacks import ModelCheckpoint, EarlyStopping, ReduceLROnPlateau\n",
    "\n",
    "checkpoint  = ModelCheckpoint('Cifar10_model.h5', monitor='val_loss', mode='min', save_best_only=True, verbose=1)\n",
    "earlystop  = EarlyStopping(monitor='val_loss', min_delta=0, patience=3, verbose=1, restore_best_weights=True)\n",
    "reduce_lr  = ReduceLROnPlateau(monitor='val_loss', factor=0.2, patience=3, verbose=1, min_delta=0.0001)\n",
    "callbacks  = [earlystop, checkpoint, reduce_lr] \n",
    "model.compile(loss='categorical_crossentropy', optimizer=RMSprop(lr = 0.001), metrics=['accuracy'])\n",
    "print(model.summary())\n"
   ]
  },
  {
   "cell_type": "code",
   "execution_count": 7,
   "metadata": {
    "scrolled": true
   },
   "outputs": [
    {
     "name": "stdout",
     "output_type": "stream",
     "text": [
      "Train on 50000 samples, validate on 10000 samples\n",
      "Epoch 1/20\n",
      "50000/50000 [==============================] - 260s 5ms/step - loss: 1.5309 - accuracy: 0.4454 - val_loss: 1.2866 - val_accuracy: 0.5468\n",
      "\n",
      "Epoch 00001: val_loss improved from inf to 1.28657, saving model to Cifar10_model.h5\n",
      "Epoch 2/20\n",
      "50000/50000 [==============================] - 242s 5ms/step - loss: 1.1212 - accuracy: 0.6078 - val_loss: 0.9052 - val_accuracy: 0.6840\n",
      "\n",
      "Epoch 00002: val_loss improved from 1.28657 to 0.90521, saving model to Cifar10_model.h5\n",
      "Epoch 3/20\n",
      "50000/50000 [==============================] - 240s 5ms/step - loss: 1.0045 - accuracy: 0.6537 - val_loss: 0.9813 - val_accuracy: 0.6713\n",
      "\n",
      "Epoch 00003: val_loss did not improve from 0.90521\n",
      "Epoch 4/20\n",
      "50000/50000 [==============================] - 240s 5ms/step - loss: 0.9673 - accuracy: 0.6675 - val_loss: 0.8713 - val_accuracy: 0.7033\n",
      "\n",
      "Epoch 00004: val_loss improved from 0.90521 to 0.87127, saving model to Cifar10_model.h5\n",
      "Epoch 5/20\n",
      "50000/50000 [==============================] - 246s 5ms/step - loss: 0.9697 - accuracy: 0.6744 - val_loss: 0.9205 - val_accuracy: 0.6879\n",
      "\n",
      "Epoch 00005: val_loss did not improve from 0.87127\n",
      "Epoch 6/20\n",
      "50000/50000 [==============================] - 274s 5ms/step - loss: 1.0026 - accuracy: 0.6720 - val_loss: 0.9860 - val_accuracy: 0.6653\n",
      "\n",
      "Epoch 00006: val_loss did not improve from 0.87127\n",
      "Epoch 7/20\n",
      "50000/50000 [==============================] - 262s 5ms/step - loss: 1.0355 - accuracy: 0.6644 - val_loss: 1.0225 - val_accuracy: 0.6743\n",
      "Restoring model weights from the end of the best epoch\n",
      "\n",
      "Epoch 00007: val_loss did not improve from 0.87127\n",
      "\n",
      "Epoch 00007: ReduceLROnPlateau reducing learning rate to 0.00020000000949949026.\n",
      "Epoch 00007: early stopping\n",
      "10000/10000 [==============================] - 13s 1ms/step\n",
      "Test loss  0.871270303440094\n",
      "Test Accuracy  0.7032999992370605\n"
     ]
    }
   ],
   "source": [
    "history = model.fit(x_train, y_train, batch_size=batch_size, epochs=epochs, callbacks=callbacks, validation_data=(x_test, y_test), shuffle=True)\n",
    "\n",
    "model.save('Cifar10.h5')\n",
    "scores  = model.evaluate(x_test, y_test, verbose=1)\n",
    "print('Test loss ', scores[0])\n",
    "print('Test Accuracy ', scores[1])"
   ]
  },
  {
   "cell_type": "code",
   "execution_count": 24,
   "metadata": {},
   "outputs": [
    {
     "data": {
      "image/png": "[encoded data removed]",
      "text/plain": [
       "<Figure size 432x288 with 1 Axes>"
      ]
     },
     "metadata": {
      "needs_background": "light"
     },
     "output_type": "display_data"
    }
   ],
   "source": [
    "# Plotting accuracy and Loss Charts\n",
    "\n",
    "import matplotlib.pyplot as plt\n",
    "history_dict = history.history\n",
    "\n",
    "loss_values = history_dict['loss']\n",
    "val_loss_values = history_dict['val_loss']\n",
    "epochs = range(1, len(loss_values) + 1)\n",
    "\n",
    "line1 = plt.plot(epochs, val_loss_values, label = 'validation/Test Loss')\n",
    "line2 = plt.plot(epochs, loss_values, label = 'Training loss')\n",
    "plt.setp(line1, linewidth = 2.0, marker = '+', markersize = 10.0)\n",
    "plt.setp(line2, linewidth = 2.0, marker = '4', markersize = 10.0)\n",
    "plt.xlabel('Epochs')\n",
    "plt.ylabel('Loss')\n",
    "plt.grid(True)\n",
    "plt.legend()\n",
    "plt.show()"
   ]
  },
  {
   "cell_type": "code",
   "execution_count": null,
   "metadata": {},
   "outputs": [],
   "source": [
    "importrt matplotlib.pyplot as plt\n",
    "import sklearn \n",
    "from sklearn.metrics import classification_report, confusion_matrix\n",
    "import numpy as np\n",
    "from keras.models import load_model\n",
    "\n",
    "img_row, img_height, img_depth = 32, 32, 3\n",
    "model = load_model('Cifar10_model.h5')\n",
    "class_labels = validation_generator.class_indices\n",
    "class_labels = {v: k for k, v in class_labels.items()}\n",
    "classes = list(class_labels.values())\n",
    "\n",
    "nb_train_samples = 41322\n",
    "nb_validation_samples = 13877\n",
    "\n",
    "y_pred = model.predict_generatovarsvalidation_generator, nb_validation_samples, batch_size + 1)\n",
    "y_pred = np.argmax(y_pred, axis=1)\n",
    "\n",
    "target_names = list(class_labels.values())\n",
    "plt.figure(figsize = (8, 8))\n",
    "cnf_matrix = confusion_matrix(validation_generator.classes, y_pred)\n",
    "\n",
    "plt.imshow(cnf_matrix, interpolation = 'nearest')\n",
    "plt.colorbar()\n",
    "tick_marks = np.arange(len(classes))\n",
    "_ = plt.xticks(ticks_marks, classes, rotation = 90)\n",
    "_ = plt.yticks(ticks_marks, classes)\n"
   ]
  },
  {
   "cell_type": "code",
   "execution_count": 40,
   "metadata": {},
   "outputs": [],
   "source": [
    "# Running some tests\n",
    "import cv2\n",
    "import numpy as np\n",
    "from keras.models import load_model\n",
    "\n",
    "img_row, img_height, img_depth = 32, 32, 3\n",
    "classifier = load_model('Cifar10.h5')\n",
    "color = True\n",
    "scale = 8\n",
    "\n",
    "def draw_test(name, res, input_im, scale, img_row, img_height) :\n",
    "    BLACK = [0,0,0]\n",
    "    res = int(res)\n",
    "    if res == 0:\n",
    "        pred = 'airplane'\n",
    "    if res == 1:\n",
    "        pred = 'automobile'\n",
    "    if res == 2:\n",
    "        pred = 'bird'\n",
    "    if res == 3:\n",
    "        pred = 'cat'\n",
    "    if res == 4:\n",
    "        pred = 'deer'\n",
    "    if res == 5:\n",
    "        pred = 'dog'\n",
    "    if res == 6:\n",
    "        pred = 'frog'\n",
    "    if res == 7:\n",
    "        pred = 'horse'\n",
    "    if res == 8:\n",
    "        pred = 'ship'\n",
    "    if res == 9 :\n",
    "        pred = 'truck'\n",
    "        \n",
    "    expanded_image = cv2.copyMakeBorder(input_im, 0, 0, 0, imagel.shape[0]*2, cv2.BORDER_CONSTANT, value = BLACK)\n",
    "    if color == False:\n",
    "        expanded_image =  cv2.cvtColor(expanded_image, cv2.COLOR_GRAY2BGR)\n",
    "    cv2.putText(expanded_image, str(pred), (300, 300), cv2.FONT_HERSHEY_COMPLEX_SMALL, 3, (0, 255, 0), 2)\n",
    "    cv2.imshow(name, expanded_image)\n",
    "    \n",
    "for i in range(0, 10):\n",
    "    rand =  np.random.randint(0, len(x_test))\n",
    "    input_im = x_test[rand]\n",
    "    imagel = cv2.resize(input_im, None, fx = scale, fy = scale, interpolation = cv2.INTER_CUBIC)\n",
    "    input_im = input_im.reshape(1,img_row, img_height, img_depth)\n",
    "    \n",
    "    res = str(classifier.predict_classes(input_im, 1, verbose = 0)[0])\n",
    "    draw_test('Prediction', res, imagel, scale, img_row, img_height)\n",
    "    cv2.waitKey(0)\n",
    "cv2.destroyAllWindows()\n",
    "    "
   ]
  },
  {
   "cell_type": "code",
   "execution_count": null,
   "metadata": {},
   "outputs": [],
   "source": []
  }
 ],
 "metadata": {
  "kernelspec": {
   "display_name": "Python 3",
   "language": "python",
   "name": "python3"
  },
  "language_info": {
   "codemirror_mode": {
    "name": "ipython",
    "version": 3
   },
   "file_extension": ".py",
   "mimetype": "text/x-python",
   "name": "python",
   "nbconvert_exporter": "python",
   "pygments_lexer": "ipython3",
   "version": "3.7.4"
  }
 },
 "nbformat": 4,
 "nbformat_minor": 2
}
